{
  "nbformat": 4,
  "nbformat_minor": 0,
  "metadata": {
    "colab": {
      "name": "auladoispython.ipynb",
      "provenance": [],
      "collapsed_sections": []
    },
    "kernelspec": {
      "name": "python3",
      "display_name": "Python 3"
    },
    "language_info": {
      "name": "python"
    }
  },
  "cells": [
    {
      "cell_type": "code",
      "execution_count": 7,
      "metadata": {
        "colab": {
          "base_uri": "https://localhost:8080/"
        },
        "id": "nz84SCgsglGU",
        "outputId": "76124b01-645c-4c50-bacf-606d95faf5ae"
      },
      "outputs": [
        {
          "output_type": "stream",
          "name": "stdout",
          "text": [
            "Digite a primeira nota: 9.8\n",
            "Digite a segunda nota: 8.9\n",
            "Digite a terceira nota: 8.6\n",
            "Digite a quarta nota: 0\n",
            "A primeira nota foi:  9.8\n",
            "A segunda nota foi:  8.9\n",
            "A terceira nota foi:  8.6\n",
            "A quarta nota foi:  0.0\n",
            "O somatório das notas foi:  27.300000000000004\n",
            "A média das notas foi:  6.825000000000001\n"
          ]
        }
      ],
      "source": [
        "notaUm=input('Digite a primeira nota: ')\n",
        "notaDois=input('Digite a segunda nota: ')\n",
        "notaTres=input('Digite a terceira nota: ')\n",
        "notaQuatro=input('Digite a quarta nota: ')\n",
        "notaUm=float(notaUm)\n",
        "notaDois=float(notaDois)\n",
        "notaTres=float(notaTres)\n",
        "notaQuatro=float(notaQuatro)\n",
        "\n",
        "somatorio=notaUm+notaDois+notaTres+notaQuatro\n",
        "media=somatorio/4\n",
        "\n",
        "print('A primeira nota foi: ', notaUm)\n",
        "print('A segunda nota foi: ', notaDois)\n",
        "print('A terceira nota foi: ', notaTres)\n",
        "print('A quarta nota foi: ', notaQuatro)\n",
        "print('O somatório das notas foi: ', somatorio)\n",
        "print('A média das notas foi: ', media)"
      ]
    },
    {
      "cell_type": "code",
      "source": [
        "valor=float(input('Digite o valor do pão: R$ '))\n",
        "pagamento=float(input('Digite o valor do pagamento: R$ '))\n",
        "\n",
        "troco=pagamento-valor\n",
        "\n",
        "print('O troco foi de: R$', troco)"
      ],
      "metadata": {
        "colab": {
          "base_uri": "https://localhost:8080/"
        },
        "id": "twG7FX0ZkqZT",
        "outputId": "51dec0c1-0fc3-4311-807d-77f9a88344f7"
      },
      "execution_count": 11,
      "outputs": [
        {
          "output_type": "stream",
          "name": "stdout",
          "text": [
            "Digite o valor do pão: R$ 10\n",
            "Digite o valor do pagamento: R$ 20\n",
            "O troco foi de: R$ 10.0\n"
          ]
        }
      ]
    },
    {
      "cell_type": "code",
      "source": [
        "nome='João Marcelo'\n",
        "\n",
        "\n",
        "\n",
        "\n",
        "\n",
        "print(f\"\"\"\n",
        "Olá {nome},\n",
        "Como você, tá?!\"\"\")"
      ],
      "metadata": {
        "colab": {
          "base_uri": "https://localhost:8080/"
        },
        "id": "M7mx5y0Sl5SQ",
        "outputId": "b8935960-b586-4941-c66e-474c0c783935"
      },
      "execution_count": 12,
      "outputs": [
        {
          "output_type": "stream",
          "name": "stdout",
          "text": [
            "\n",
            "Olá João Marcelo,\n",
            "Como você, tá?!\n"
          ]
        }
      ]
    }
  ]
}