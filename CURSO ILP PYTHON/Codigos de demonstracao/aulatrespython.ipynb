{
  "nbformat": 4,
  "nbformat_minor": 0,
  "metadata": {
    "colab": {
      "name": "aula4.ipynb",
      "provenance": []
    },
    "kernelspec": {
      "name": "python3",
      "display_name": "Python 3"
    },
    "language_info": {
      "name": "python"
    }
  },
  "cells": [
    {
      "cell_type": "code",
      "execution_count": null,
      "metadata": {
        "id": "lBveE4Jc0RQw"
      },
      "outputs": [],
      "source": [
        "#lista = [\"a\", \"b\", \"c\"]\n",
        "#lista = [10, 20, 30]\n",
        "\n",
        "produtos = ['tv', 'celular', 'tablet', 'mouse', 'teclado', 'geladeira', 'forno']\n",
        "estoque = [100, 150, 100, 120, 70, 180, 80]\n",
        "\n",
        "print('*'*8, 'PRODUTOS EM ESTOQUE', '*'*8)\n",
        "print(produtos)\n",
        "produtos.append('fogão')\n",
        "\n",
        "print('*'*8, 'CATÁLOGO ATUALIZADO', '*'*8)\n",
        "produtos.remove('celular')\n",
        "print(produtos)\n",
        "\n",
        "\n",
        "item=input('Digite qual o item: ')\n",
        "i = produtos.index(item)\n",
        "qntd_produtos = estoque[i]\n",
        "\n",
        "print(f'Quantidade em estoque do produto é de: {qntd_produtos}')"
      ]
    },
    {
      "cell_type": "code",
      "source": [
        "idade = int(input('Digite sua idade: '))\n",
        "if idade <= 12:\n",
        "  print('Criança')\n",
        "  if idade==10:\n",
        "    print('Ganhou um brinde!')\n",
        "  else:\n",
        "      print('Não ganhou um brinde...;(')\n",
        "elif idade < 18:\n",
        "  print('Adolescente')\n",
        "elif idade < 60:\n",
        "  print('Adulto')\n",
        "  if idade >= 18:\n",
        "        print('Ganhou a carta de habilitação.')\n",
        "  else:\n",
        "        print(\"Não ganhou a carta de habilitação.\") \n",
        "else:\n",
        "  print('Idoso') \n"
      ],
      "metadata": {
        "id": "rVXozP8PAFn4"
      },
      "execution_count": null,
      "outputs": []
    }
  ]
}