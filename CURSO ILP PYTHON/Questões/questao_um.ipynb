{
  "nbformat": 4,
  "nbformat_minor": 0,
  "metadata": {
    "colab": {
      "name": "questao_um.ipynb",
      "provenance": [],
      "collapsed_sections": []
    },
    "kernelspec": {
      "name": "python3",
      "display_name": "Python 3"
    },
    "language_info": {
      "name": "python"
    }
  },
  "cells": [
    {
      "cell_type": "code",
      "execution_count": null,
      "metadata": {
        "id": "EHzhp4swCvvh"
      },
      "outputs": [],
      "source": [
        "perfil=str(input('Digite o nome do perfil: ')) #Recebe o nome do perfil \n",
        "\n",
        "dia_um=int(input('Digite o número de curtidas obtidas no primeiro dia: ')) #Recebe o numero de curtidas no dia 1 \n",
        "dia_dois=int(input('Digite o número de curtidas obtidas no segundo dia: ')) #Recebe o numero de curtidas no dia 2 \n",
        "dia_tres=int(input('Digite o número de curtidas obtidas no terceiro dia: ')) #Recebe o numero de curtidas no dia 3 \n",
        "dia_quatro=int(input('Digite o número de curtidas obtidas no quarto dia: ')) #Recebe o numero de curtidas no dia 4 \n",
        "dia_cinco=int(input('Digite o número de curtidas obtidas no quinto dia: ')) #Recebe o numero de curtidas no dia 5 \n",
        "\n",
        "total=dia_um+dia_dois+dia_tres+dia_quatro+dia_cinco #Total de curtidas \n",
        "media=total/5 #Média de curtidas por vídeo\n",
        "\n",
        "print(\"O perfil do {} teve {} curtidas, com a média de {} curtidas por vídeo.\".format(perfil, total, media))\n",
        "\n"
      ]
    }
  ]
}