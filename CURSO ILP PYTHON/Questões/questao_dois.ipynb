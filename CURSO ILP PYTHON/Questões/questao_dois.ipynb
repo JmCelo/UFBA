{
  "nbformat": 4,
  "nbformat_minor": 0,
  "metadata": {
    "colab": {
      "name": "questao_dois.ipynb",
      "provenance": [],
      "collapsed_sections": []
    },
    "kernelspec": {
      "name": "python3",
      "display_name": "Python 3"
    },
    "language_info": {
      "name": "python"
    }
  },
  "cells": [
    {
      "cell_type": "code",
      "execution_count": 4,
      "metadata": {
        "colab": {
          "base_uri": "https://localhost:8080/"
        },
        "id": "W_s9zHJSCujJ",
        "outputId": "81e66d82-a357-46d5-f087-4d78ba0f5caa"
      },
      "outputs": [
        {
          "output_type": "stream",
          "name": "stdout",
          "text": [
            "Digite em quanto dias a nave do Thanos irá aterrissar na Terra: 395\n",
            "Thanos chega em: 1 ano(s), 1 mês(es) e 5 dia(s).\n"
          ]
        }
      ],
      "source": [
        "dias=int(input('Digite em quanto dias a nave do Thanos irá aterrissar na Terra: ')) \n",
        "\n",
        "\n",
        "anos=int(dias)//360\n",
        "d=int(dias)%360\n",
        "meses=int(d)//30\n",
        "dias=int(d)%30\n",
        "\n",
        "\n",
        "print('Thanos chega em: {} ano(s), {} mês(es) e {} dia(s).'.format(anos, meses, dias))"
      ]
    }
  ]
}