{
  "nbformat": 4,
  "nbformat_minor": 0,
  "metadata": {
    "colab": {
      "name": "questaDois_atvd3.ipynb",
      "provenance": []
    },
    "kernelspec": {
      "name": "python3",
      "display_name": "Python 3"
    },
    "language_info": {
      "name": "python"
    }
  },
  "cells": [
    {
      "cell_type": "code",
      "execution_count": 3,
      "metadata": {
        "colab": {
          "base_uri": "https://localhost:8080/"
        },
        "id": "8K_HqNasZjAx",
        "outputId": "74c62cd9-c74c-43f3-b3e0-50af5be43e2d"
      },
      "outputs": [
        {
          "output_type": "stream",
          "name": "stdout",
          "text": [
            "Insira o número de piscadas: 5\n",
            "Digite o primeiro número: 23\n",
            "Digite o segundo número: 46\n",
            "Número de piscadas desconhecido.\n"
          ]
        }
      ],
      "source": [
        "piscou = int(input('Insira o número de piscadas: '))\n",
        "num_um = input('Digite o primeiro número: ')\n",
        "num_dois = input('Digite o segundo número: ')\n",
        "num_um = float(num_um)\n",
        "num_dois = float(num_dois)\n",
        "\n",
        "\n",
        "if piscou==1:\n",
        "  resultado = num_um+num_dois\n",
        "  print(\"O resultado é: {}\".format(resultado))\n",
        "elif piscou==2:\n",
        "  resultado = num_um-num_dois\n",
        "  print(\"O resultado é: {}\".format(resultado))\n",
        "elif piscou==3:\n",
        "  resultado = num_um*num_dois\n",
        "  print(\"O resultado é: {}\".format(resultado))\n",
        "elif piscou==4:\n",
        "  resultado = num_um/num_dois\n",
        "  print(\"O resultado é: {}\".format(resultado))\n",
        "else:\n",
        "  print('Número de piscadas desconhecido.') \n",
        "\n"
      ]
    }
  ]
}