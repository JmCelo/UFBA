{
  "nbformat": 4,
  "nbformat_minor": 0,
  "metadata": {
    "colab": {
      "name": "questao_extra.ipynb",
      "provenance": [],
      "collapsed_sections": []
    },
    "kernelspec": {
      "name": "python3",
      "display_name": "Python 3"
    },
    "language_info": {
      "name": "python"
    }
  },
  "cells": [
    {
      "cell_type": "code",
      "execution_count": 2,
      "metadata": {
        "colab": {
          "base_uri": "https://localhost:8080/"
        },
        "id": "9sesVNbbCt_4",
        "outputId": "2ba09375-3a6f-4b7a-d2ac-c57fb355190e"
      },
      "outputs": [
        {
          "output_type": "stream",
          "name": "stdout",
          "text": [
            "Digite as quatro notas em sequência(uma do lado da outra): 10 10 9 8 \n",
            "Média é igual: 9.25\n"
          ]
        }
      ],
      "source": [
        "nota_um,nota_dois,nota_tres,nota_quatro=input('Digite as quatro notas em sequência(uma do lado da outra): ').split()\n",
        "\n",
        "soma=0\n",
        "\n",
        "nota_um=float(nota_um)\n",
        "nota_dois=float(nota_dois)\n",
        "nota_tres=float(nota_tres)\n",
        "nota_quatro=float(nota_quatro)\n",
        "\n",
        "soma=nota_um+nota_dois+nota_tres+nota_quatro\n",
        "media=soma/4\n",
        "\n",
        "print('Média é igual: {}'.format(media))"
      ]
    }
  ]
}