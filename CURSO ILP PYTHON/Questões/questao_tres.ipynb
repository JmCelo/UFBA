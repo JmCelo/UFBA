{
  "nbformat": 4,
  "nbformat_minor": 0,
  "metadata": {
    "colab": {
      "name": "Untitled4.ipynb",
      "provenance": []
    },
    "kernelspec": {
      "name": "python3",
      "display_name": "Python 3"
    },
    "language_info": {
      "name": "python"
    }
  },
  "cells": [
    {
      "cell_type": "code",
      "execution_count": 83,
      "metadata": {
        "id": "yyq5m1UrN83I",
        "colab": {
          "base_uri": "https://localhost:8080/"
        },
        "outputId": "430ab33f-9009-4092-9af3-52f03c5f5513"
      },
      "outputs": [
        {
          "output_type": "stream",
          "name": "stdout",
          "text": [
            "Digite os salários: 1000 2000 3000 5000 800 900\n",
            "Esta é a lista de salários em ordem crescente:\n",
            "/n\n",
            "***** [800, 900, 1000, 2000, 3000, 5000] *****\n",
            "O menor salário é 800, e o maior salário é 5000.\n"
          ]
        }
      ],
      "source": [
        "salario = input('Digite os salários: ')\n",
        "\n",
        "\n",
        "salario = salario.split()\n",
        "salario = list(map(int,salario))\n",
        "print('Esta é a lista de salários em ordem crescente:')\n",
        "print('/n')\n",
        "print('*'*5, sorted(salario), '*'*5)\n",
        "print(\"O menor salário é {}, e o maior salário é {}.\".format(min(salario),max(salario)))\n"
      ]
    },
    {
      "cell_type": "code",
      "source": [
        "salario = input('Digite os salários: ')\n",
        "\n",
        "\n",
        "salario = salario.split()\n",
        "salario = list(map(int,salario))\n",
        "print('Esta é a lista de salários em ordem crescente:')\n",
        "print('/n')\n",
        "print('*'*5, sorted(salario), '*'*5)\n",
        "print(\"O menor salário é {}, e o maior salário é {}.\".format(min(salario),max(salario)))\n"
      ],
      "metadata": {
        "colab": {
          "base_uri": "https://localhost:8080/"
        },
        "id": "22uWlITxO20C",
        "outputId": "298cc238-ace2-4c02-c34b-bc298bb44fb7"
      },
      "execution_count": 84,
      "outputs": [
        {
          "output_type": "stream",
          "name": "stdout",
          "text": [
            "Digite os salários: 800 2000 600 1500\n",
            "Esta é a lista de salários em ordem crescente:\n",
            "/n\n",
            "***** [600, 800, 1500, 2000] *****\n",
            "O menor salário é 600, e o maior salário é 2000.\n"
          ]
        }
      ]
    },
    {
      "cell_type": "code",
      "source": [
        ""
      ],
      "metadata": {
        "id": "X5gpDBea3Y1z"
      },
      "execution_count": null,
      "outputs": []
    }
  ]
}